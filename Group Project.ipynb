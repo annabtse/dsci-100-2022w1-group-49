{
 "cells": [
  {
   "cell_type": "code",
   "execution_count": 2,
   "id": "41d7e68f-3618-442e-babb-56b60311398e",
   "metadata": {},
   "outputs": [
    {
     "ename": "ERROR",
     "evalue": "Error in library(svglite): there is no package called ‘svglite’\n",
     "output_type": "error",
     "traceback": [
      "Error in library(svglite): there is no package called ‘svglite’\nTraceback:\n",
      "1. library(svglite)"
     ]
    }
   ],
   "source": [
    "library(readxl)  #for excel sheet read system\n",
    "library(DBI)  #for Reading Data from SQLite database\n",
    "library(dbplyr)  #SQL Database queries functions\n",
    "library(RSQLite)  #RSQL Database queries functions\n",
    "library(RPostgres) # RPostgres Database functions\n",
    "library(tidyverse)  #most of our tidyverse functions \n",
    "library(scales)  #for labeling comma function and log scales?\n",
    "library(RColorBrewer)  #color palette (includes color-blind options)\n",
    "library(svglite)  #to save svg files\n",
    "library(repr)  #ggplot visualization + options(repr.plot.width=8, repr.plot.height=7)\n",
    "library(lubridate) #convert different time/date formatss\n"
   ]
  },
  {
   "cell_type": "code",
   "execution_count": null,
   "id": "941f0fbd-a140-423e-b1a9-dcd431367da9",
   "metadata": {},
   "outputs": [],
   "source": [
    "data <- read_excel"
   ]
  }
 ],
 "metadata": {
  "kernelspec": {
   "display_name": "R",
   "language": "R",
   "name": "ir"
  },
  "language_info": {
   "codemirror_mode": "r",
   "file_extension": ".r",
   "mimetype": "text/x-r-source",
   "name": "R",
   "pygments_lexer": "r",
   "version": "4.1.3"
  }
 },
 "nbformat": 4,
 "nbformat_minor": 5
}
